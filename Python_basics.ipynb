{
  "nbformat": 4,
  "nbformat_minor": 0,
  "metadata": {
    "colab": {
      "provenance": [],
      "include_colab_link": true
    },
    "kernelspec": {
      "name": "python3",
      "display_name": "Python 3"
    },
    "language_info": {
      "name": "python"
    }
  },
  "cells": [
    {
      "cell_type": "markdown",
      "metadata": {
        "id": "view-in-github",
        "colab_type": "text"
      },
      "source": [
        "<a href=\"https://colab.research.google.com/github/Arasirwa/DSFT-13-Phase-0/blob/main/Python_basics.ipynb\" target=\"_parent\"><img src=\"https://colab.research.google.com/assets/colab-badge.svg\" alt=\"Open In Colab\"/></a>"
      ]
    },
    {
      "cell_type": "markdown",
      "source": [
        "#Inputs, Datatypes, Definitions"
      ],
      "metadata": {
        "id": "-cG9yH3glZHq"
      }
    },
    {
      "cell_type": "markdown",
      "source": [
        "In order to create your own notebook, Go to File > save a copy in Drive"
      ],
      "metadata": {
        "id": "-NFW5XTty8xh"
      }
    },
    {
      "cell_type": "markdown",
      "source": [
        "A “Hello, world!” program is traditionally used to introduce novice programmers to a programming language.  is also traditionally used in a sanity test to make sure that a computer language is correctly installed, and that the operator understands how to use it.\n",
        "In this notebook, we shall go through datatypes, variables and deifinitions of concepts in Python which will assist in understanding the code and programming language.\n"
      ],
      "metadata": {
        "id": "hrGbvQOul8hy"
      }
    },
    {
      "cell_type": "code",
      "source": [
        "print('Hello, Coding World!')"
      ],
      "metadata": {
        "colab": {
          "base_uri": "https://localhost:8080/"
        },
        "id": "VwJrmFhQpDUa",
        "outputId": "40f561fe-76d8-4fd9-a6a2-d679e65f60e9"
      },
      "execution_count": null,
      "outputs": [
        {
          "output_type": "stream",
          "name": "stdout",
          "text": [
            "Hello, Coding World!\n"
          ]
        }
      ]
    },
    {
      "cell_type": "code",
      "source": [
        "name = input('What is your name?')\n",
        "age = input(' and age? ')\n",
        "\n",
        "print(name, 'is', age,'years old')"
      ],
      "metadata": {
        "colab": {
          "base_uri": "https://localhost:8080/"
        },
        "id": "wzTXZbq7xJTR",
        "outputId": "467665cc-2481-4273-9e20-9418fc4e9be6"
      },
      "execution_count": null,
      "outputs": [
        {
          "output_type": "stream",
          "name": "stdout",
          "text": [
            "What is your name?Noah\n",
            " and age? 5\n",
            "Noah is 5 years old\n"
          ]
        }
      ]
    },
    {
      "cell_type": "code",
      "source": [
        "print(name)\n",
        "age"
      ],
      "metadata": {
        "colab": {
          "base_uri": "https://localhost:8080/",
          "height": 53
        },
        "id": "3vZpsBatkVG4",
        "outputId": "64d490db-ea9c-41d0-f221-f307adcc6099"
      },
      "execution_count": null,
      "outputs": [
        {
          "output_type": "stream",
          "name": "stdout",
          "text": [
            "Noah\n"
          ]
        },
        {
          "output_type": "execute_result",
          "data": {
            "text/plain": [
              "'5'"
            ],
            "application/vnd.google.colaboratory.intrinsic+json": {
              "type": "string"
            }
          },
          "metadata": {},
          "execution_count": 118
        }
      ]
    },
    {
      "cell_type": "code",
      "source": [
        "\"\"\"\n",
        "docstrings\n",
        "variable -\n",
        "element\n",
        "entity\n",
        "rows/ records/instances/ axis= 0\n",
        "columns/fields/features/variables/ axis =1\n",
        "\n",
        "\"\"\""
      ],
      "metadata": {
        "id": "pkv7ulk2vPCR",
        "colab": {
          "base_uri": "https://localhost:8080/",
          "height": 53
        },
        "outputId": "b529fbd2-821b-49e1-cc6f-233c00555a95"
      },
      "execution_count": null,
      "outputs": [
        {
          "output_type": "execute_result",
          "data": {
            "text/plain": [
              "'\\ndocstrings\\nvariable -\\nelement\\nentity\\nrows/ records/instances/ axis= 0\\ncolumns/fields/features/variables/ axis =1\\n\\n'"
            ],
            "application/vnd.google.colaboratory.intrinsic+json": {
              "type": "string"
            }
          },
          "metadata": {},
          "execution_count": 120
        }
      ]
    },
    {
      "cell_type": "code",
      "source": [
        "# this is a comment\n",
        "age"
      ],
      "metadata": {
        "colab": {
          "base_uri": "https://localhost:8080/",
          "height": 35
        },
        "id": "CbqLLtOxlC_0",
        "outputId": "64f25128-e858-43ff-e302-76671d140246"
      },
      "execution_count": null,
      "outputs": [
        {
          "output_type": "execute_result",
          "data": {
            "text/plain": [
              "'5'"
            ],
            "application/vnd.google.colaboratory.intrinsic+json": {
              "type": "string"
            }
          },
          "metadata": {},
          "execution_count": 121
        }
      ]
    },
    {
      "cell_type": "markdown",
      "source": [
        "# Input and Print"
      ],
      "metadata": {
        "id": "Er4moSD54KaK"
      }
    },
    {
      "cell_type": "markdown",
      "source": [
        "Python **print()** function prints the message to the screen or any other standard output device.\n",
        "\n",
        "Using # to write comments. These comments help programmers explain code and write notes on a cell.\n",
        "\n",
        "A cell is a block of code or text which are sections in a notebook.\n",
        "\n",
        "Variables are containers which store values (numeric, string, list, etc)"
      ],
      "metadata": {
        "id": "TdgaKnLKnv9m"
      }
    },
    {
      "cell_type": "code",
      "source": [
        "x = input('What is your name?')\n",
        "\n",
        "print('My name is '+ x)"
      ],
      "metadata": {
        "id": "AXTCZfyeFgiQ",
        "colab": {
          "base_uri": "https://localhost:8080/"
        },
        "outputId": "9e08d2f9-1547-4477-a056-f90ffcbf6c14"
      },
      "execution_count": null,
      "outputs": [
        {
          "output_type": "stream",
          "name": "stdout",
          "text": [
            "What is your name?Noah\n",
            "My name is Noah\n"
          ]
        }
      ]
    },
    {
      "cell_type": "code",
      "execution_count": null,
      "metadata": {
        "colab": {
          "base_uri": "https://localhost:8080/"
        },
        "id": "i3ZOZqNjnsxZ",
        "outputId": "686d7b87-f030-4c88-d1b7-c073052f5a5a"
      },
      "outputs": [
        {
          "output_type": "stream",
          "name": "stdout",
          "text": [
            "<class 'bool'>\n",
            "<class 'float'>\n"
          ]
        }
      ],
      "source": [
        "# print( when called, simply throws the cursor to the next line.\n",
        "# It means a blank line will be displayed\n",
        "\n",
        "print(type(True))     #hjgjk\n",
        "print(type(66.5))\n"
      ]
    },
    {
      "cell_type": "code",
      "source": [
        "# String literals in python’s print statement are primarily used to format or design how a specific string appears when printed using the print() function.\n",
        "\n",
        "# \\n : This string literal is used to add a new blank line while printing a statement.\n",
        "# “” : An empty quote (“”) is used to print an empty line.\n",
        "\n",
        "print('\\n')\n",
        "print()"
      ],
      "metadata": {
        "colab": {
          "base_uri": "https://localhost:8080/"
        },
        "id": "NdFSKd8foAWq",
        "outputId": "5d6c2fcf-5ab8-4c4a-d3b7-27ad6d15d2ad"
      },
      "execution_count": null,
      "outputs": [
        {
          "output_type": "stream",
          "name": "stdout",
          "text": [
            "\n",
            "\n",
            "\n"
          ]
        }
      ]
    },
    {
      "cell_type": "code",
      "source": [
        "# Printing an empty line\n",
        "print('b')\n",
        "print('\\n')\n",
        "print('b')"
      ],
      "metadata": {
        "colab": {
          "base_uri": "https://localhost:8080/"
        },
        "id": "zDQUM_bbooEd",
        "outputId": "cadfa0f7-ed1b-4a1e-d5b8-330d6d1ebcee"
      },
      "execution_count": null,
      "outputs": [
        {
          "output_type": "stream",
          "name": "stdout",
          "text": [
            "b\n",
            "\n",
            "\n",
            "b\n"
          ]
        }
      ]
    },
    {
      "cell_type": "code",
      "source": [
        "# We shall store values in x\n",
        "\n",
        "x = 6\n",
        "print(x)"
      ],
      "metadata": {
        "colab": {
          "base_uri": "https://localhost:8080/"
        },
        "id": "zN8Ez4H068jV",
        "outputId": "716fe8fa-697d-4cdd-ba8c-53cf45629740"
      },
      "execution_count": null,
      "outputs": [
        {
          "output_type": "stream",
          "name": "stdout",
          "text": [
            "6\n"
          ]
        }
      ]
    },
    {
      "cell_type": "code",
      "source": [
        "# Variable (age) assignment  (value =27)\n",
        "age = 27\n",
        "\n",
        "age\n"
      ],
      "metadata": {
        "colab": {
          "base_uri": "https://localhost:8080/"
        },
        "id": "1RL5ViVkRLpx",
        "outputId": "7447d963-d0d0-4e66-a89a-51e0f8f92ed0"
      },
      "execution_count": null,
      "outputs": [
        {
          "output_type": "execute_result",
          "data": {
            "text/plain": [
              "27"
            ]
          },
          "metadata": {},
          "execution_count": 10
        }
      ]
    },
    {
      "cell_type": "code",
      "source": [
        "# We can print strings. These can be used to add additional comments and informations\n",
        "print('Python is easy')"
      ],
      "metadata": {
        "colab": {
          "base_uri": "https://localhost:8080/"
        },
        "id": "3vZaT3FAot8y",
        "outputId": "f033d1f3-7960-49d1-fccb-6cc94cefdada"
      },
      "execution_count": null,
      "outputs": [
        {
          "output_type": "stream",
          "name": "stdout",
          "text": [
            "Python is easy\n"
          ]
        }
      ]
    },
    {
      "cell_type": "code",
      "source": [
        "# Lets print 'I am studying python' below\n",
        "\n",
        "print('I am studying python')"
      ],
      "metadata": {
        "id": "saEAg-1i5fe6",
        "colab": {
          "base_uri": "https://localhost:8080/"
        },
        "outputId": "670f2232-2411-48d1-ab2c-ff944b209376"
      },
      "execution_count": null,
      "outputs": [
        {
          "output_type": "stream",
          "name": "stdout",
          "text": [
            "My name is noah\n"
          ]
        }
      ]
    },
    {
      "cell_type": "code",
      "source": [
        "print(8)"
      ],
      "metadata": {
        "colab": {
          "base_uri": "https://localhost:8080/"
        },
        "id": "vwW4pWRRdzkc",
        "outputId": "2c2a9e1b-8d78-4822-87a3-523c7c783119"
      },
      "execution_count": null,
      "outputs": [
        {
          "output_type": "stream",
          "name": "stdout",
          "text": [
            "8\n"
          ]
        }
      ]
    },
    {
      "cell_type": "markdown",
      "source": [
        "Input: They allow for user unput  using **input()** function"
      ],
      "metadata": {
        "id": "R1W0yDPG7jk2"
      }
    },
    {
      "cell_type": "code",
      "source": [
        "input()"
      ],
      "metadata": {
        "colab": {
          "base_uri": "https://localhost:8080/",
          "height": 53
        },
        "id": "WfG0kLMReAm9",
        "outputId": "b5a5c679-e40c-456f-9023-9863d80aaeae"
      },
      "execution_count": null,
      "outputs": [
        {
          "name": "stdout",
          "output_type": "stream",
          "text": [
            "yyy\n"
          ]
        },
        {
          "output_type": "execute_result",
          "data": {
            "text/plain": [
              "'yyy'"
            ],
            "application/vnd.google.colaboratory.intrinsic+json": {
              "type": "string"
            }
          },
          "metadata": {},
          "execution_count": 134
        }
      ]
    },
    {
      "cell_type": "code",
      "source": [
        "# Input your age\n",
        "age = input('Enter your age: ')\n",
        "print(age)"
      ],
      "metadata": {
        "id": "iNVG1d7h7jQ3",
        "colab": {
          "base_uri": "https://localhost:8080/"
        },
        "outputId": "8ecd101a-3265-476f-bb4d-b08ad6fb9f59"
      },
      "execution_count": null,
      "outputs": [
        {
          "output_type": "stream",
          "name": "stdout",
          "text": [
            "Enter your age: 66\n",
            "66\n"
          ]
        }
      ]
    },
    {
      "cell_type": "code",
      "source": [
        "# we can input and add data\n",
        "no1 = input('Number 1 = ')\n",
        "no2 = input('Number 2 = ')\n",
        "\n"
      ],
      "metadata": {
        "id": "htE_CEsC8huN",
        "colab": {
          "base_uri": "https://localhost:8080/"
        },
        "outputId": "7b799427-f4b8-40bd-9145-0f3602a423ab"
      },
      "execution_count": null,
      "outputs": [
        {
          "name": "stdout",
          "output_type": "stream",
          "text": [
            "Number 1 = 100\n",
            "Number 2 = 50\n"
          ]
        }
      ]
    },
    {
      "cell_type": "code",
      "source": [
        "int(no1)/int(no2)\n"
      ],
      "metadata": {
        "colab": {
          "base_uri": "https://localhost:8080/"
        },
        "id": "4fksky_Cmadr",
        "outputId": "7ca5b1e9-c65e-45f1-d8e4-9ca7c3fe0c35"
      },
      "execution_count": null,
      "outputs": [
        {
          "output_type": "execute_result",
          "data": {
            "text/plain": [
              "2.0"
            ]
          },
          "metadata": {},
          "execution_count": 140
        }
      ]
    },
    {
      "cell_type": "code",
      "source": [
        "input(6)"
      ],
      "metadata": {
        "colab": {
          "base_uri": "https://localhost:8080/",
          "height": 53
        },
        "id": "9Qx7m9H1hW9B",
        "outputId": "4374edf6-4fe7-4607-ad1b-f5efdb062f83"
      },
      "execution_count": null,
      "outputs": [
        {
          "name": "stdout",
          "output_type": "stream",
          "text": [
            "65\n"
          ]
        },
        {
          "output_type": "execute_result",
          "data": {
            "text/plain": [
              "'5'"
            ],
            "application/vnd.google.colaboratory.intrinsic+json": {
              "type": "string"
            }
          },
          "metadata": {},
          "execution_count": 18
        }
      ]
    },
    {
      "cell_type": "code",
      "source": [
        "# We can combine user input and output\n",
        "print('My name is ',input('What is your name? '))\n",
        "\n",
        "print('\\n')\n",
        "\n",
        "# # or alternatively\n",
        "# guvnor = input('Who is Nairobi county governor? ')\n",
        "# print('HE',str(guvnor) +' is the Nairobi governor')"
      ],
      "metadata": {
        "id": "iNfwEH5IpQr1",
        "colab": {
          "base_uri": "https://localhost:8080/"
        },
        "outputId": "e3dbb7a1-2b28-4fd7-82f5-f97d5127f380"
      },
      "execution_count": null,
      "outputs": [
        {
          "output_type": "stream",
          "name": "stdout",
          "text": [
            "What is your name? 666\n",
            " v My name is  666\n",
            "\n",
            "\n"
          ]
        }
      ]
    },
    {
      "cell_type": "code",
      "source": [
        "int\n",
        "str\n",
        "float"
      ],
      "metadata": {
        "colab": {
          "base_uri": "https://localhost:8080/"
        },
        "id": "x3kLgoD9HD7v",
        "outputId": "2a12277e-be6b-459c-d1c8-9a4065b8553e"
      },
      "execution_count": null,
      "outputs": [
        {
          "output_type": "execute_result",
          "data": {
            "text/plain": [
              "float"
            ]
          },
          "metadata": {},
          "execution_count": 143
        }
      ]
    },
    {
      "cell_type": "code",
      "source": [
        "x = int('667')\n",
        "type(x)"
      ],
      "metadata": {
        "colab": {
          "base_uri": "https://localhost:8080/",
          "height": 106
        },
        "id": "KbVDLQV_lbHU",
        "outputId": "b37eace9-950e-4e70-e687-bccd016f7074"
      },
      "execution_count": null,
      "outputs": [
        {
          "output_type": "error",
          "ename": "SyntaxError",
          "evalue": "unterminated string literal (detected at line 2) (<ipython-input-23-0046be883be9>, line 2)",
          "traceback": [
            "\u001b[0;36m  File \u001b[0;32m\"<ipython-input-23-0046be883be9>\"\u001b[0;36m, line \u001b[0;32m2\u001b[0m\n\u001b[0;31m    type('x)\u001b[0m\n\u001b[0m         ^\u001b[0m\n\u001b[0;31mSyntaxError\u001b[0m\u001b[0;31m:\u001b[0m unterminated string literal (detected at line 2)\n"
          ]
        }
      ]
    },
    {
      "cell_type": "code",
      "source": [
        "guvnor = input('Who is Nairobi county governor? ')\n",
        "print('HE',str(guvnor) ,' is the Nairobi governor')"
      ],
      "metadata": {
        "colab": {
          "base_uri": "https://localhost:8080/"
        },
        "id": "nKDV4q9af6qK",
        "outputId": "1289ae7f-2b19-4ae0-e1db-31b2a4feffd7"
      },
      "execution_count": null,
      "outputs": [
        {
          "output_type": "stream",
          "name": "stdout",
          "text": [
            "Who is Nairobi county governor? hah\n",
            "HE hah  is the Nairobi governor\n"
          ]
        }
      ]
    },
    {
      "cell_type": "code",
      "source": [
        "print('H.E.'+ guvnor +' is the Nairobi governor')"
      ],
      "metadata": {
        "colab": {
          "base_uri": "https://localhost:8080/"
        },
        "id": "EBile2hKgNPG",
        "outputId": "cbb66766-cd0f-499f-d23c-4c32eb3c9c72"
      },
      "execution_count": null,
      "outputs": [
        {
          "output_type": "stream",
          "name": "stdout",
          "text": [
            "H.E.hah is the Nairobi governor\n"
          ]
        }
      ]
    },
    {
      "cell_type": "code",
      "source": [
        "6# Lets practise them.\n",
        "r = input('r= ')\n",
        "z = input('z= ')\n",
        "print()\n",
        "print(r<z and z<r)\n",
        "print(r==z or z<r)\n",
        "print(not(r<z))\n"
      ],
      "metadata": {
        "id": "R1IQyzuy0ScR",
        "colab": {
          "base_uri": "https://localhost:8080/"
        },
        "outputId": "3dbd5675-64c9-4696-973d-8500be5ad406"
      },
      "execution_count": null,
      "outputs": [
        {
          "output_type": "stream",
          "name": "stdout",
          "text": [
            "r= 5\n",
            "z= 6\n",
            "\n",
            "False\n",
            "False\n",
            "False\n"
          ]
        }
      ]
    },
    {
      "cell_type": "markdown",
      "source": [
        "Exercises"
      ],
      "metadata": {
        "id": "6gIHlcQTymEg"
      }
    },
    {
      "cell_type": "code",
      "source": [],
      "metadata": {
        "id": "dpvP6DQOxBr8"
      },
      "execution_count": null,
      "outputs": []
    },
    {
      "cell_type": "code",
      "source": [
        "# Greater or equal to\n",
        "# Is 208 greater or equal to 190?\n",
        "print(208>=190)"
      ],
      "metadata": {
        "id": "B2aBS4PwylxX",
        "colab": {
          "base_uri": "https://localhost:8080/"
        },
        "outputId": "aeb07927-c96f-4fdf-ed4c-720b8a17d324"
      },
      "execution_count": null,
      "outputs": [
        {
          "output_type": "stream",
          "name": "stdout",
          "text": [
            "True\n"
          ]
        }
      ]
    },
    {
      "cell_type": "markdown",
      "source": [
        "# Data Types"
      ],
      "metadata": {
        "id": "M_rSH5kTnooQ"
      }
    },
    {
      "cell_type": "markdown",
      "source": [
        "In programming, data type is an important concept.\n",
        "\n",
        "Variables can store data of different types, and different types can do different things.\n",
        "Anytime words (text) are written in Python, you're using character strings (strings for short).\n",
        "\n",
        "Examples of data types include:\n",
        "*   Text Type:\tstr\n",
        "*   Numeric Types:\tint, float, complex\n",
        "*   Sequence Types:\tlist, tuple, range\n",
        "*   Mapping Type:\tdict\n",
        "*   Set Types:\tset, frozenset\n",
        "*   Boolean Type:\tbool\n",
        "*   Binary Types:\tbytes, bytearray, memoryview\n",
        "*   None Type:\tNoneType\n",
        "\n",
        "\n",
        "\n",
        "\n",
        "\n",
        "\n",
        "\n"
      ],
      "metadata": {
        "id": "E__Ttfwznq_M"
      }
    },
    {
      "cell_type": "markdown",
      "source": [
        "## Getting data type\n",
        "You can get the data type of any object by using the **type()** function"
      ],
      "metadata": {
        "id": "SDdcF7xFn3Va"
      }
    },
    {
      "cell_type": "code",
      "source": [
        "import pandas as pd\n",
        "import numpy as np\n"
      ],
      "metadata": {
        "id": "Mv1juY37zMIQ"
      },
      "execution_count": null,
      "outputs": []
    },
    {
      "cell_type": "code",
      "source": [
        "# Print the data type of the variable x\n",
        "# Integer type\n",
        "x = int('10')\n",
        "\n",
        "\n",
        "type(x)"
      ],
      "metadata": {
        "id": "yuPiO1Snn_W6",
        "colab": {
          "base_uri": "https://localhost:8080/"
        },
        "outputId": "dc0204d8-ef85-49a3-e1c0-c973871b1c56"
      },
      "execution_count": null,
      "outputs": [
        {
          "output_type": "execute_result",
          "data": {
            "text/plain": [
              "int"
            ]
          },
          "metadata": {},
          "execution_count": 32
        }
      ]
    },
    {
      "cell_type": "code",
      "source": [
        "# Float type\n",
        "type(6/3)"
      ],
      "metadata": {
        "id": "v_zmfswmoIGE",
        "colab": {
          "base_uri": "https://localhost:8080/"
        },
        "outputId": "074ba99f-a361-49f4-da13-5fc7efefc734"
      },
      "execution_count": null,
      "outputs": [
        {
          "output_type": "execute_result",
          "data": {
            "text/plain": [
              "float"
            ]
          },
          "metadata": {},
          "execution_count": 144
        }
      ]
    },
    {
      "cell_type": "code",
      "source": [
        "# String type\n",
        "type('This is marys book')"
      ],
      "metadata": {
        "id": "q2tyvtMlp_p_",
        "colab": {
          "base_uri": "https://localhost:8080/"
        },
        "outputId": "abda22fb-6a2c-40ad-f239-2919115daec7"
      },
      "execution_count": null,
      "outputs": [
        {
          "output_type": "execute_result",
          "data": {
            "text/plain": [
              "str"
            ]
          },
          "metadata": {},
          "execution_count": 46
        }
      ]
    },
    {
      "cell_type": "code",
      "source": [
        "# Run this cell and check its output\n",
        "#\n",
        "# a = \"Learning Data Science is Easy\"\n",
        "a = 3\n",
        "type(a)"
      ],
      "metadata": {
        "id": "GPkYbqp5qN9n",
        "colab": {
          "base_uri": "https://localhost:8080/"
        },
        "outputId": "7a07de7a-1e14-42dc-bc4c-39da997bbbb1"
      },
      "execution_count": null,
      "outputs": [
        {
          "output_type": "execute_result",
          "data": {
            "text/plain": [
              "int"
            ]
          },
          "metadata": {},
          "execution_count": 47
        }
      ]
    },
    {
      "cell_type": "code",
      "source": [
        "type(4)"
      ],
      "metadata": {
        "colab": {
          "base_uri": "https://localhost:8080/"
        },
        "id": "UdzcH04mkTs2",
        "outputId": "6971f19c-3bb1-4f2a-e4c5-03b7c605bfc6"
      },
      "execution_count": null,
      "outputs": [
        {
          "output_type": "execute_result",
          "data": {
            "text/plain": [
              "int"
            ]
          },
          "metadata": {},
          "execution_count": 48
        }
      ]
    },
    {
      "cell_type": "code",
      "source": [
        "y = float('4')\n",
        "type(y)"
      ],
      "metadata": {
        "id": "RlbQyFp_sAdz",
        "colab": {
          "base_uri": "https://localhost:8080/"
        },
        "outputId": "aa05217c-2adb-4f37-bb85-101d0c4cd02e"
      },
      "execution_count": null,
      "outputs": [
        {
          "output_type": "execute_result",
          "data": {
            "text/plain": [
              "float"
            ]
          },
          "metadata": {},
          "execution_count": 49
        }
      ]
    },
    {
      "cell_type": "code",
      "source": [
        "list1 = {\"a\",\"b\",5}\n",
        "\n",
        "type(list1)"
      ],
      "metadata": {
        "colab": {
          "base_uri": "https://localhost:8080/"
        },
        "id": "qijDV0Dxip8x",
        "outputId": "d0472245-d02b-4948-a9ce-4201cd6840be"
      },
      "execution_count": null,
      "outputs": [
        {
          "output_type": "execute_result",
          "data": {
            "text/plain": [
              "set"
            ]
          },
          "metadata": {},
          "execution_count": 50
        }
      ]
    },
    {
      "cell_type": "markdown",
      "source": [
        "## Data type conversion\n",
        "If you want to specify the data type, we can use the following constructor functions;\n",
        "\n",
        "**str(), int(), float(), list(), complex(), dict(), set(), bool(), range(), tuple()** among others\n",
        "\n",
        "However, we can lose information or introduce errors to code. Converting float to integer will lose its decimal value, while converting a string to integer will not be valid. (i.e. float 23.1762 will be 23)"
      ],
      "metadata": {
        "id": "z4NHmmhZqYXg"
      }
    },
    {
      "cell_type": "markdown",
      "source": [
        "### To integer"
      ],
      "metadata": {
        "id": "88ArlFhTuTHy"
      }
    },
    {
      "cell_type": "code",
      "source": [
        "xy = '6718919'\n",
        "\n",
        "type(xy)"
      ],
      "metadata": {
        "colab": {
          "base_uri": "https://localhost:8080/"
        },
        "id": "xKiMW23_jjjQ",
        "outputId": "b816431e-7629-4db5-fd9d-a98b680ce1f8"
      },
      "execution_count": null,
      "outputs": [
        {
          "output_type": "execute_result",
          "data": {
            "text/plain": [
              "str"
            ]
          },
          "metadata": {},
          "execution_count": 51
        }
      ]
    },
    {
      "cell_type": "code",
      "source": [
        "zz = int(xy)\n",
        "\n",
        "type(zz)"
      ],
      "metadata": {
        "colab": {
          "base_uri": "https://localhost:8080/"
        },
        "id": "cWk_d4imjjgp",
        "outputId": "c406611d-df76-4aa1-9e75-06107d325a82"
      },
      "execution_count": null,
      "outputs": [
        {
          "output_type": "execute_result",
          "data": {
            "text/plain": [
              "int"
            ]
          },
          "metadata": {},
          "execution_count": 52
        }
      ]
    },
    {
      "cell_type": "code",
      "source": [
        "int(82.6)"
      ],
      "metadata": {
        "id": "SyCuPu0LugQ5",
        "colab": {
          "base_uri": "https://localhost:8080/"
        },
        "outputId": "a709e2f5-eda0-4558-b80a-fab76b18cf45"
      },
      "execution_count": null,
      "outputs": [
        {
          "output_type": "execute_result",
          "data": {
            "text/plain": [
              "82"
            ]
          },
          "metadata": {},
          "execution_count": 146
        }
      ]
    },
    {
      "cell_type": "code",
      "source": [
        "int('12872')"
      ],
      "metadata": {
        "id": "sqIrpYsavIwV",
        "colab": {
          "base_uri": "https://localhost:8080/"
        },
        "outputId": "c25bcb7f-07fd-4b91-ae82-cbb512601dbc"
      },
      "execution_count": null,
      "outputs": [
        {
          "output_type": "execute_result",
          "data": {
            "text/plain": [
              "2574.4"
            ]
          },
          "metadata": {},
          "execution_count": 148
        }
      ]
    },
    {
      "cell_type": "code",
      "source": [
        "int('string')"
      ],
      "metadata": {
        "id": "JlY5a3GWvLmq",
        "colab": {
          "base_uri": "https://localhost:8080/",
          "height": 141
        },
        "outputId": "efdd18e3-d8f0-4035-a97a-2e08a20e41da"
      },
      "execution_count": null,
      "outputs": [
        {
          "output_type": "error",
          "ename": "ValueError",
          "evalue": "invalid literal for int() with base 10: 'string'",
          "traceback": [
            "\u001b[0;31m---------------------------------------------------------------------------\u001b[0m",
            "\u001b[0;31mValueError\u001b[0m                                Traceback (most recent call last)",
            "\u001b[0;32m<ipython-input-149-b5203544975d>\u001b[0m in \u001b[0;36m<cell line: 1>\u001b[0;34m()\u001b[0m\n\u001b[0;32m----> 1\u001b[0;31m \u001b[0mint\u001b[0m\u001b[0;34m(\u001b[0m\u001b[0;34m'string'\u001b[0m\u001b[0;34m)\u001b[0m\u001b[0;34m\u001b[0m\u001b[0;34m\u001b[0m\u001b[0m\n\u001b[0m",
            "\u001b[0;31mValueError\u001b[0m: invalid literal for int() with base 10: 'string'"
          ]
        }
      ]
    },
    {
      "cell_type": "markdown",
      "source": [
        "### To float"
      ],
      "metadata": {
        "id": "PPzcVQFOuXST"
      }
    },
    {
      "cell_type": "markdown",
      "source": [
        "float()"
      ],
      "metadata": {
        "id": "PR-N3ndWmNVM"
      }
    },
    {
      "cell_type": "code",
      "source": [
        "type(7)"
      ],
      "metadata": {
        "colab": {
          "base_uri": "https://localhost:8080/"
        },
        "id": "X5fzV1eLkmUy",
        "outputId": "6f9e48f7-53b4-48b8-fbea-89cc4b10185a"
      },
      "execution_count": null,
      "outputs": [
        {
          "output_type": "execute_result",
          "data": {
            "text/plain": [
              "int"
            ]
          },
          "metadata": {},
          "execution_count": 56
        }
      ]
    },
    {
      "cell_type": "code",
      "source": [
        "float(7)"
      ],
      "metadata": {
        "colab": {
          "base_uri": "https://localhost:8080/"
        },
        "id": "vMBBlnPYkwgM",
        "outputId": "defdb229-859b-4bb8-e791-71da64137a79"
      },
      "execution_count": null,
      "outputs": [
        {
          "output_type": "execute_result",
          "data": {
            "text/plain": [
              "7.0"
            ]
          },
          "metadata": {},
          "execution_count": 57
        }
      ]
    },
    {
      "cell_type": "code",
      "source": [
        "# Change integer to float\n",
        "x = 9\n",
        "print(type(x))\n",
        "\n",
        "# Uncomment the code below\n",
        "xx = float(x)\n",
        "print(type(xx))"
      ],
      "metadata": {
        "id": "LA8_vVAfqW_9",
        "colab": {
          "base_uri": "https://localhost:8080/"
        },
        "outputId": "0c1d4ce2-7ca7-40fd-ec75-9f4bb912d19c"
      },
      "execution_count": null,
      "outputs": [
        {
          "output_type": "stream",
          "name": "stdout",
          "text": [
            "<class 'int'>\n",
            "<class 'float'>\n"
          ]
        }
      ]
    },
    {
      "cell_type": "code",
      "source": [
        "# average_number = 45.2 people\n",
        "int(45.2)"
      ],
      "metadata": {
        "id": "tDt4gm1DvRpA",
        "colab": {
          "base_uri": "https://localhost:8080/"
        },
        "outputId": "9a142573-3d52-4c28-c95d-5d1022401f07"
      },
      "execution_count": null,
      "outputs": [
        {
          "output_type": "execute_result",
          "data": {
            "text/plain": [
              "45"
            ]
          },
          "metadata": {},
          "execution_count": 59
        }
      ]
    },
    {
      "cell_type": "markdown",
      "source": [
        "### To string"
      ],
      "metadata": {
        "id": "_HJfg6ZJuZN2"
      }
    },
    {
      "cell_type": "code",
      "source": [
        "# Convert integer to string\n",
        "str(9272)"
      ],
      "metadata": {
        "id": "rcFzZyKMtP8d",
        "colab": {
          "base_uri": "https://localhost:8080/",
          "height": 35
        },
        "outputId": "a4e0dda4-dde3-41f0-c9d5-8f20c1294106"
      },
      "execution_count": null,
      "outputs": [
        {
          "output_type": "execute_result",
          "data": {
            "text/plain": [
              "'9272'"
            ],
            "application/vnd.google.colaboratory.intrinsic+json": {
              "type": "string"
            }
          },
          "metadata": {},
          "execution_count": 60
        }
      ]
    },
    {
      "cell_type": "code",
      "source": [
        "str(87/12)"
      ],
      "metadata": {
        "id": "TcHF-sGitZSI",
        "colab": {
          "base_uri": "https://localhost:8080/",
          "height": 35
        },
        "outputId": "61a4f025-4cef-447b-d36a-ec822b700e3e"
      },
      "execution_count": null,
      "outputs": [
        {
          "output_type": "execute_result",
          "data": {
            "text/plain": [
              "'7.25'"
            ],
            "application/vnd.google.colaboratory.intrinsic+json": {
              "type": "string"
            }
          },
          "metadata": {},
          "execution_count": 61
        }
      ]
    },
    {
      "cell_type": "code",
      "source": [
        "type(True)"
      ],
      "metadata": {
        "id": "TNKjaX_8vUZe",
        "colab": {
          "base_uri": "https://localhost:8080/"
        },
        "outputId": "5ccd9f7e-f5f0-405b-ea66-8a9580c29c5c"
      },
      "execution_count": null,
      "outputs": [
        {
          "output_type": "execute_result",
          "data": {
            "text/plain": [
              "bool"
            ]
          },
          "metadata": {},
          "execution_count": 62
        }
      ]
    },
    {
      "cell_type": "code",
      "source": [
        "# We can convert Boolean to string\n",
        "type(str(True))\n",
        "\n",
        "str()"
      ],
      "metadata": {
        "id": "2Y3_aq21vXWv",
        "colab": {
          "base_uri": "https://localhost:8080/",
          "height": 35
        },
        "outputId": "8a118e1c-7b9b-407b-e9c1-f34d2c80ed52"
      },
      "execution_count": null,
      "outputs": [
        {
          "output_type": "execute_result",
          "data": {
            "text/plain": [
              "''"
            ],
            "application/vnd.google.colaboratory.intrinsic+json": {
              "type": "string"
            }
          },
          "metadata": {},
          "execution_count": 63
        }
      ]
    },
    {
      "cell_type": "markdown",
      "source": [
        "### Boolean"
      ],
      "metadata": {
        "id": "R0zrtUoDub-K"
      }
    },
    {
      "cell_type": "markdown",
      "source": [
        "We can cast boolean to datatypes. If the value is True, we will get 1, while False = 0"
      ],
      "metadata": {
        "id": "ej9fo_KUuDzN"
      }
    },
    {
      "cell_type": "code",
      "source": [
        "int(True),int(False)\n"
      ],
      "metadata": {
        "id": "ZWIo7CwFt8Gw",
        "colab": {
          "base_uri": "https://localhost:8080/"
        },
        "outputId": "ed0d9fe7-1dbc-4090-f178-4d4d8175ae4d"
      },
      "execution_count": null,
      "outputs": [
        {
          "output_type": "execute_result",
          "data": {
            "text/plain": [
              "(1, 0)"
            ]
          },
          "metadata": {},
          "execution_count": 64
        }
      ]
    },
    {
      "cell_type": "code",
      "source": [
        "bool(0)"
      ],
      "metadata": {
        "id": "LJDAKl1Nt3bD",
        "colab": {
          "base_uri": "https://localhost:8080/"
        },
        "outputId": "daeef2c4-1dd8-4491-ed57-32d0d83c07a7"
      },
      "execution_count": null,
      "outputs": [
        {
          "output_type": "execute_result",
          "data": {
            "text/plain": [
              "False"
            ]
          },
          "metadata": {},
          "execution_count": 65
        }
      ]
    },
    {
      "cell_type": "code",
      "source": [
        "bool('jaha')"
      ],
      "metadata": {
        "id": "CC5VeZ_GtjAC",
        "colab": {
          "base_uri": "https://localhost:8080/"
        },
        "outputId": "e5b578ef-f68d-44be-8f1f-2659cff71cf7"
      },
      "execution_count": null,
      "outputs": [
        {
          "output_type": "execute_result",
          "data": {
            "text/plain": [
              "True"
            ]
          },
          "metadata": {},
          "execution_count": 66
        }
      ]
    },
    {
      "cell_type": "code",
      "source": [
        "bool('')"
      ],
      "metadata": {
        "id": "cjBkBUNHuMvg",
        "colab": {
          "base_uri": "https://localhost:8080/"
        },
        "outputId": "a184aca3-839a-44fa-9c6e-cf7101979178"
      },
      "execution_count": null,
      "outputs": [
        {
          "output_type": "execute_result",
          "data": {
            "text/plain": [
              "False"
            ]
          },
          "metadata": {},
          "execution_count": 67
        }
      ]
    },
    {
      "cell_type": "markdown",
      "source": [
        "# Collections\n"
      ],
      "metadata": {
        "id": "aEgdCIvY62gO"
      }
    },
    {
      "cell_type": "code",
      "source": [
        "1+1"
      ],
      "metadata": {
        "colab": {
          "base_uri": "https://localhost:8080/"
        },
        "id": "w2_MXjKienK6",
        "outputId": "3a884c77-ad53-4daa-f84e-6a19b7303f1c"
      },
      "execution_count": null,
      "outputs": [
        {
          "output_type": "execute_result",
          "data": {
            "text/plain": [
              "2"
            ]
          },
          "metadata": {},
          "execution_count": 68
        }
      ]
    },
    {
      "cell_type": "markdown",
      "source": [
        "####List\n",
        "A list is a collection which is ordered and changeable. They are written with [  ].\n",
        "\n",
        "They can contain different datatypes like integers, strings, objects. They are mutable and do not need to be homogeneous and can contain duplicates."
      ],
      "metadata": {
        "id": "A_d-Ia6l6_Zg"
      }
    },
    {
      "cell_type": "code",
      "source": [
        "# Create a list\n",
        "fruits = ['guava','apple',\"pear\",'pineapple',\"banana\",'mango']\n",
        "# print('list =', fruits)\n",
        "\n",
        "fruits[0:2]"
      ],
      "metadata": {
        "id": "FmQQsYyS7N2v",
        "colab": {
          "base_uri": "https://localhost:8080/"
        },
        "outputId": "612016a6-8945-4b89-b8f8-c09419c15834"
      },
      "execution_count": null,
      "outputs": [
        {
          "output_type": "stream",
          "name": "stdout",
          "text": [
            "list = ['guava', 'apple', 'pear', 5, 'pineapple', 'banana', 'mango']\n"
          ]
        },
        {
          "output_type": "execute_result",
          "data": {
            "text/plain": [
              "['guava', 'apple']"
            ]
          },
          "metadata": {},
          "execution_count": 155
        }
      ]
    },
    {
      "cell_type": "code",
      "source": [
        "sports = ['football','rugby','tennis','squash',98]\n",
        "print('list 2 = ',sports)\n"
      ],
      "metadata": {
        "id": "jc6aJQgqxTgW",
        "colab": {
          "base_uri": "https://localhost:8080/"
        },
        "outputId": "c0537c31-6bee-463b-ec1a-8c51bb08b7e2"
      },
      "execution_count": null,
      "outputs": [
        {
          "output_type": "stream",
          "name": "stdout",
          "text": [
            "list 2 =  ['football', 'rugby', 'tennis', 'squash', 98]\n"
          ]
        }
      ]
    },
    {
      "cell_type": "code",
      "source": [
        "clubs = ['Arsenal','Chelsea','Man Utd', 'Liverpool','Man City']\n",
        "clubs"
      ],
      "metadata": {
        "id": "S0vtkMR7zb--",
        "colab": {
          "base_uri": "https://localhost:8080/"
        },
        "outputId": "e7c4e0eb-c1ca-4aea-cc4f-e416d85557a5"
      },
      "execution_count": null,
      "outputs": [
        {
          "output_type": "execute_result",
          "data": {
            "text/plain": [
              "['Arsenal', 'Chelsea', 'Man Utd', 'Liverpool', 'Man City']"
            ]
          },
          "metadata": {},
          "execution_count": 71
        }
      ]
    },
    {
      "cell_type": "code",
      "source": [
        "# Add variables to create your custom list\n",
        "my_list = ['add your variables']\n",
        "print(my_list)"
      ],
      "metadata": {
        "id": "x4g0rRGixVSb",
        "colab": {
          "base_uri": "https://localhost:8080/"
        },
        "outputId": "5d1409db-a8d3-4fea-af30-2a3bb6e9cc02"
      },
      "execution_count": null,
      "outputs": [
        {
          "output_type": "stream",
          "name": "stdout",
          "text": [
            "['add your variables']\n"
          ]
        }
      ]
    },
    {
      "cell_type": "code",
      "source": [
        "#  An empty list contains no variables\n",
        "print([])"
      ],
      "metadata": {
        "id": "sPrUqYaI-Lrl",
        "colab": {
          "base_uri": "https://localhost:8080/"
        },
        "outputId": "9f446373-ab35-45c3-a019-cf530b8ae422"
      },
      "execution_count": null,
      "outputs": [
        {
          "output_type": "stream",
          "name": "stdout",
          "text": [
            "[]\n"
          ]
        }
      ]
    },
    {
      "cell_type": "code",
      "source": [
        "#  We can add items by using append() and extend()\n",
        "fruits.append('orange')\n",
        "print(fruits)\n"
      ],
      "metadata": {
        "id": "Uu7DUZ3S8x90",
        "colab": {
          "base_uri": "https://localhost:8080/"
        },
        "outputId": "9c55b54c-a827-4d7d-9639-d1913843fcae"
      },
      "execution_count": null,
      "outputs": [
        {
          "output_type": "stream",
          "name": "stdout",
          "text": [
            "['guava', 'apple', 'pear', 'pineapple', 'banana', 'mango', 'orange']\n"
          ]
        }
      ]
    },
    {
      "cell_type": "code",
      "source": [
        "sports.extend(['100 m','Formula 1'])\n",
        "print(sports)"
      ],
      "metadata": {
        "id": "gaF8BuLWyMQN",
        "colab": {
          "base_uri": "https://localhost:8080/"
        },
        "outputId": "b1a79fa9-552b-4999-9fbc-aaa902f4d43c"
      },
      "execution_count": null,
      "outputs": [
        {
          "output_type": "stream",
          "name": "stdout",
          "text": [
            "['football', 'rugby', 'tennis', 'squash', 98, '100 m', 'Formula 1']\n"
          ]
        }
      ]
    },
    {
      "cell_type": "markdown",
      "source": [
        "We can add and update elements in a list by its index, remember Python indexes start with 0.\n",
        "\n"
      ],
      "metadata": {
        "id": "kmzR-l0wy_0H"
      }
    },
    {
      "cell_type": "code",
      "source": [
        "sports"
      ],
      "metadata": {
        "colab": {
          "base_uri": "https://localhost:8080/"
        },
        "id": "kvcsPOJvn7KP",
        "outputId": "0fc6cc93-6f81-4d71-b6f1-a41bf32a910c"
      },
      "execution_count": null,
      "outputs": [
        {
          "output_type": "execute_result",
          "data": {
            "text/plain": [
              "['football', 'rugby', 'tennis', 'squash', 98, '100 m', 'Formula 1']"
            ]
          },
          "metadata": {},
          "execution_count": 76
        }
      ]
    },
    {
      "cell_type": "markdown",
      "source": [],
      "metadata": {
        "id": "L2mJiTMHoxxO"
      }
    },
    {
      "cell_type": "code",
      "source": [
        "# Add a sport in the sports list, first item\n",
        "sports[-1] = 'softball'\n",
        "sports"
      ],
      "metadata": {
        "id": "C4s3otTKy6hK",
        "colab": {
          "base_uri": "https://localhost:8080/"
        },
        "outputId": "de2d70a0-1b1f-4ac1-bfb2-3036cfb602dd"
      },
      "execution_count": null,
      "outputs": [
        {
          "output_type": "execute_result",
          "data": {
            "text/plain": [
              "['football', 'rugby', 'tennis', 'squash', 98, '100 m', 'softball']"
            ]
          },
          "metadata": {},
          "execution_count": 77
        }
      ]
    },
    {
      "cell_type": "code",
      "source": [
        "# Add a sport in the fruits list, third item\n",
        "fruits[2] = 'quava'\n",
        "fruits"
      ],
      "metadata": {
        "id": "QEDiT9r9zlty",
        "colab": {
          "base_uri": "https://localhost:8080/"
        },
        "outputId": "f4d5ca0f-dbc0-440d-8e4b-f4481b7cfe48"
      },
      "execution_count": null,
      "outputs": [
        {
          "output_type": "execute_result",
          "data": {
            "text/plain": [
              "['guava', 'apple', 'quava', 'pineapple', 'banana', 'mango', 'orange']"
            ]
          },
          "metadata": {},
          "execution_count": 78
        }
      ]
    },
    {
      "cell_type": "code",
      "source": [
        "# Add your favourite football club, second item\n",
        "sports[1] = 'my team'\n",
        "sports"
      ],
      "metadata": {
        "id": "kI4vm1Mrz3Rq",
        "colab": {
          "base_uri": "https://localhost:8080/"
        },
        "outputId": "baeed397-d744-4461-d552-323efebc2e11"
      },
      "execution_count": null,
      "outputs": [
        {
          "output_type": "execute_result",
          "data": {
            "text/plain": [
              "['football', 'my team', 'tennis', 'squash', 98, '100 m', 'softball']"
            ]
          },
          "metadata": {},
          "execution_count": 79
        }
      ]
    },
    {
      "cell_type": "markdown",
      "source": [
        "We can access elements using an integer index"
      ],
      "metadata": {
        "id": "pD9-QzBt8A-p"
      }
    },
    {
      "cell_type": "code",
      "source": [
        "sports[3]"
      ],
      "metadata": {
        "id": "YqYpMJl88hN_",
        "colab": {
          "base_uri": "https://localhost:8080/",
          "height": 35
        },
        "outputId": "d276b4b6-5533-40e4-805a-f7977470d68e"
      },
      "execution_count": null,
      "outputs": [
        {
          "output_type": "execute_result",
          "data": {
            "text/plain": [
              "'squash'"
            ],
            "application/vnd.google.colaboratory.intrinsic+json": {
              "type": "string"
            }
          },
          "metadata": {},
          "execution_count": 80
        }
      ]
    },
    {
      "cell_type": "code",
      "source": [
        "clubs"
      ],
      "metadata": {
        "colab": {
          "base_uri": "https://localhost:8080/"
        },
        "id": "pd7mZGMTo86f",
        "outputId": "d8c59fb9-b128-43a0-f650-e12be6ea6315"
      },
      "execution_count": null,
      "outputs": [
        {
          "output_type": "execute_result",
          "data": {
            "text/plain": [
              "['Arsenal', 'Chelsea', 'Man Utd', 'Liverpool', 'Man City']"
            ]
          },
          "metadata": {},
          "execution_count": 81
        }
      ]
    },
    {
      "cell_type": "code",
      "source": [
        "#  we can access the list and add an output string to make sense of a list\n",
        "print(clubs[-1],'is big')"
      ],
      "metadata": {
        "id": "v0tzimSnYCuL",
        "colab": {
          "base_uri": "https://localhost:8080/"
        },
        "outputId": "25e7f6ec-fb23-4270-cdac-d3a62f98e5f3"
      },
      "execution_count": null,
      "outputs": [
        {
          "output_type": "stream",
          "name": "stdout",
          "text": [
            "Man City is big\n"
          ]
        }
      ]
    },
    {
      "cell_type": "code",
      "source": [
        "# To get a range of elements we use\n",
        "# Get first two elements in the list\n",
        "\n",
        "clubs[0:3]"
      ],
      "metadata": {
        "id": "FqoT1BzNYrPs",
        "colab": {
          "base_uri": "https://localhost:8080/"
        },
        "outputId": "57fb8012-be19-4738-8236-a9ac78bf936f"
      },
      "execution_count": null,
      "outputs": [
        {
          "output_type": "execute_result",
          "data": {
            "text/plain": [
              "['Arsenal', 'Chelsea', 'Man Utd']"
            ]
          },
          "metadata": {},
          "execution_count": 83
        }
      ]
    },
    {
      "cell_type": "code",
      "source": [
        "# Len returns the number of elements\n",
        "\n",
        "len(clubs)"
      ],
      "metadata": {
        "id": "hrSuoSFQY82V",
        "colab": {
          "base_uri": "https://localhost:8080/"
        },
        "outputId": "beb8df8a-c263-42ac-9137-2aa1acce53df"
      },
      "execution_count": null,
      "outputs": [
        {
          "output_type": "execute_result",
          "data": {
            "text/plain": [
              "5"
            ]
          },
          "metadata": {},
          "execution_count": 84
        }
      ]
    },
    {
      "cell_type": "code",
      "source": [
        "# Get the last item in list\n",
        "clubs[-1]"
      ],
      "metadata": {
        "id": "cjAq1oeHZIrL",
        "colab": {
          "base_uri": "https://localhost:8080/",
          "height": 35
        },
        "outputId": "862a8d1d-11aa-4f11-fc17-6fd81483bd28"
      },
      "execution_count": null,
      "outputs": [
        {
          "output_type": "execute_result",
          "data": {
            "text/plain": [
              "'Man City'"
            ],
            "application/vnd.google.colaboratory.intrinsic+json": {
              "type": "string"
            }
          },
          "metadata": {},
          "execution_count": 85
        }
      ]
    },
    {
      "cell_type": "markdown",
      "source": [
        "We can remove items from a list as shown below"
      ],
      "metadata": {
        "id": "TEjDTz_10iS-"
      }
    },
    {
      "cell_type": "code",
      "source": [
        "# Let us remove rugby from the sports list\n",
        "sports.remove('softball')\n",
        "sports"
      ],
      "metadata": {
        "id": "1ejhD4lf0mFl",
        "colab": {
          "base_uri": "https://localhost:8080/"
        },
        "outputId": "e1e0f4c7-aa4b-4f1a-cecb-1e603d887717"
      },
      "execution_count": null,
      "outputs": [
        {
          "output_type": "execute_result",
          "data": {
            "text/plain": [
              "['football', 'my team', 'tennis', 'squash', 98, '100 m']"
            ]
          },
          "metadata": {},
          "execution_count": 86
        }
      ]
    },
    {
      "cell_type": "code",
      "source": [
        "#  Let us delete fourth item from clubs list\n",
        "del sports[3]\n",
        "sports"
      ],
      "metadata": {
        "id": "PhQOF7b11MHr",
        "colab": {
          "base_uri": "https://localhost:8080/"
        },
        "outputId": "290f884c-b40b-43b3-cdee-2697f519a070"
      },
      "execution_count": null,
      "outputs": [
        {
          "output_type": "execute_result",
          "data": {
            "text/plain": [
              "['football', 'my team', 'tennis', 98, '100 m']"
            ]
          },
          "metadata": {},
          "execution_count": 87
        }
      ]
    },
    {
      "cell_type": "code",
      "source": [
        "#  Let us delete nth item from your custom list\n",
        "del my_list[0] # replace 0 with n\n",
        "my_list"
      ],
      "metadata": {
        "id": "cZ7y9AoQ1hxS",
        "colab": {
          "base_uri": "https://localhost:8080/"
        },
        "outputId": "c6f1d6ce-734e-4644-d967-58f8f0d38d39"
      },
      "execution_count": null,
      "outputs": [
        {
          "output_type": "execute_result",
          "data": {
            "text/plain": [
              "[]"
            ]
          },
          "metadata": {},
          "execution_count": 88
        }
      ]
    },
    {
      "cell_type": "markdown",
      "source": [
        "Let us print items in a list based on their indexes. This can subset a list by slicing the list"
      ],
      "metadata": {
        "id": "HVmBEvgw10h2"
      }
    },
    {
      "cell_type": "code",
      "source": [
        "# We can print the items from the 3rd item till the end by slicing and printing them as shown;\n",
        "\n",
        "fruits_2 = fruits[2:]\n",
        "print(fruits_2)"
      ],
      "metadata": {
        "id": "uwFZqjnD2B3i",
        "colab": {
          "base_uri": "https://localhost:8080/"
        },
        "outputId": "a1b3233d-2621-4cd0-dc85-a849efbf839d"
      },
      "execution_count": null,
      "outputs": [
        {
          "output_type": "stream",
          "name": "stdout",
          "text": [
            "['quava', 'pineapple', 'banana', 'mango', 'orange']\n"
          ]
        }
      ]
    },
    {
      "cell_type": "code",
      "source": [
        "# We can print items from beginning of the list to the third element in the\n",
        "# football club list as shown;\n",
        "#\n",
        "klab = clubs[:-2]\n",
        "print(klab)"
      ],
      "metadata": {
        "id": "1WqJbYDv2XlO",
        "colab": {
          "base_uri": "https://localhost:8080/"
        },
        "outputId": "2d996931-6e1e-4523-b71b-9ea5cab07682"
      },
      "execution_count": null,
      "outputs": [
        {
          "output_type": "stream",
          "name": "stdout",
          "text": [
            "['Arsenal', 'Chelsea', 'Man Utd']\n"
          ]
        }
      ]
    },
    {
      "cell_type": "markdown",
      "source": [
        "####Tuple\n",
        "A tuple is similar to list except that objects in a tuple are immutable and cannot be changed once assigned.\n",
        "Iteratively, it is computationaly cheap as compared to a list. Since tuples are indexed, they can have items with the same value"
      ],
      "metadata": {
        "id": "NoOTBRJd7LIv"
      }
    },
    {
      "cell_type": "code",
      "source": [
        "# A tuple can be empty\n",
        "tuple1 = ()\n",
        "print(tuple1)\n"
      ],
      "metadata": {
        "id": "jfN49tiE2qf_",
        "colab": {
          "base_uri": "https://localhost:8080/"
        },
        "outputId": "85818751-00bf-4b07-c5cc-8db2074c51c2"
      },
      "execution_count": null,
      "outputs": [
        {
          "output_type": "stream",
          "name": "stdout",
          "text": [
            "()\n"
          ]
        }
      ]
    },
    {
      "cell_type": "code",
      "source": [
        "# Creating a tuple with variables\n",
        "tuple_2 = ('rat','mouse','rabbit')\n",
        "print(tuple_2)\n",
        "\n"
      ],
      "metadata": {
        "id": "kRcoivmr-XKJ",
        "colab": {
          "base_uri": "https://localhost:8080/"
        },
        "outputId": "c55b04c0-bf8d-4853-cc6f-43147d529289"
      },
      "execution_count": null,
      "outputs": [
        {
          "output_type": "stream",
          "name": "stdout",
          "text": [
            "('rat', 'mouse', 'rabbit')\n"
          ]
        }
      ]
    },
    {
      "cell_type": "code",
      "source": [
        "# Create a tuple of foodstuff\n",
        "food = ('ugali','rice','potato','sukuma')\n",
        "\n",
        "type(food)"
      ],
      "metadata": {
        "id": "EPbR1yJZ3Ku_",
        "colab": {
          "base_uri": "https://localhost:8080/"
        },
        "outputId": "1b1d841d-7402-4646-9834-8748d71b67cb"
      },
      "execution_count": null,
      "outputs": [
        {
          "output_type": "execute_result",
          "data": {
            "text/plain": [
              "tuple"
            ]
          },
          "metadata": {},
          "execution_count": 93
        }
      ]
    },
    {
      "cell_type": "code",
      "source": [
        "# Lets check the datatype of the tuple\n",
        "type(food)"
      ],
      "metadata": {
        "id": "P8dnkYrB29Uh",
        "colab": {
          "base_uri": "https://localhost:8080/"
        },
        "outputId": "3498f453-3f5f-434c-e7c7-ed96a70dc56a"
      },
      "execution_count": null,
      "outputs": [
        {
          "output_type": "execute_result",
          "data": {
            "text/plain": [
              "tuple"
            ]
          },
          "metadata": {},
          "execution_count": 94
        }
      ]
    },
    {
      "cell_type": "code",
      "source": [
        "# A tuple is heterogenous and can contain different data types\n",
        "xyz = (\"anelisa is \",[12,19,29])\n",
        "print(xyz)"
      ],
      "metadata": {
        "id": "UQfniNe7-tDL",
        "colab": {
          "base_uri": "https://localhost:8080/"
        },
        "outputId": "6334cda5-3928-4eca-a2cb-14ab989ee03d"
      },
      "execution_count": null,
      "outputs": [
        {
          "output_type": "stream",
          "name": "stdout",
          "text": [
            "('anelisa is ', [12, 19, 29])\n"
          ]
        }
      ]
    },
    {
      "cell_type": "markdown",
      "source": [
        "#### Set\n",
        "A set is a collection which is unordered, unchangeable, and unindexed.. Sets are used to store multiple items in a single variable.  Sets cannot have two items with the same value"
      ],
      "metadata": {
        "id": "pHwMbTfbTYLm"
      }
    },
    {
      "cell_type": "code",
      "source": [
        "this_set = {\"sprite\",'coke','krest','fanta'}\n",
        "print(this_set)"
      ],
      "metadata": {
        "id": "UgzKnjOyTkQa",
        "colab": {
          "base_uri": "https://localhost:8080/"
        },
        "outputId": "3e959ce6-e6d2-4391-f558-d8c7d314478b"
      },
      "execution_count": null,
      "outputs": [
        {
          "output_type": "stream",
          "name": "stdout",
          "text": [
            "{'krest', 'sprite', 'fanta', 'coke'}\n"
          ]
        }
      ]
    },
    {
      "cell_type": "code",
      "source": [
        "# A set with strings, integers and boolean values\n",
        "set1 = {\"abc\", 34, False, 40, \"horse\"}\n",
        "print(set1)"
      ],
      "metadata": {
        "id": "u83Wf8kQT3VB",
        "colab": {
          "base_uri": "https://localhost:8080/"
        },
        "outputId": "9822ddb3-7829-432c-a622-0b3149e8214f"
      },
      "execution_count": null,
      "outputs": [
        {
          "output_type": "stream",
          "name": "stdout",
          "text": [
            "{False, 34, 40, 'abc', 'horse'}\n"
          ]
        }
      ]
    },
    {
      "cell_type": "markdown",
      "source": [
        "#### Dictionary\n",
        "It is a collection of pairs which is unordered, changeable, and indexed. Written with curly brackets and have keys and values"
      ],
      "metadata": {
        "id": "dsTHMUlw_Lu5"
      }
    },
    {
      "cell_type": "code",
      "source": [
        "# Example 1\n",
        "gari = {\n",
        "    'brand':'Toyota Corolla',\n",
        "    'colour': 'white',\n",
        "    'year' : \"1998\"\n",
        "}\n",
        "\n",
        "gari"
      ],
      "metadata": {
        "id": "pLa79PF8_bSo",
        "colab": {
          "base_uri": "https://localhost:8080/"
        },
        "outputId": "493885ec-e14b-485e-a497-72ad9018a85e"
      },
      "execution_count": null,
      "outputs": [
        {
          "output_type": "execute_result",
          "data": {
            "text/plain": [
              "{'brand': 'Toyota Corolla', 'colour': 'white', 'year': '1998'}"
            ]
          },
          "metadata": {},
          "execution_count": 157
        }
      ]
    },
    {
      "cell_type": "code",
      "source": [
        "# Example 2\n",
        "bio = {\n",
        "    'Name':'Mwanga',\n",
        "    'gender': 'female',\n",
        "    'age' : 25,\n",
        "    'height' : '120 cm',\n",
        "    'weight' : 52\n",
        "}\n",
        "\n",
        "bio"
      ],
      "metadata": {
        "id": "YYExLLsVe5-A",
        "colab": {
          "base_uri": "https://localhost:8080/"
        },
        "outputId": "35cbd8ce-6125-43d6-8a60-74215a435f41"
      },
      "execution_count": null,
      "outputs": [
        {
          "output_type": "execute_result",
          "data": {
            "text/plain": [
              "{'Name': 'Mwanga',\n",
              " 'gender': 'female',\n",
              " 'age': 25,\n",
              " 'height': '120 cm',\n",
              " 'weight': 52}"
            ]
          },
          "metadata": {},
          "execution_count": 99
        }
      ]
    },
    {
      "cell_type": "code",
      "source": [
        "# example 3\n",
        "phone = {\n",
        "    'brand':'Infinix',\n",
        "    'RAM': '4gb'\n",
        "}\n",
        "\n",
        "phone"
      ],
      "metadata": {
        "id": "ipxmLY7kCWq4",
        "colab": {
          "base_uri": "https://localhost:8080/"
        },
        "outputId": "8d1904e8-73f6-4ec8-91d9-e35b4f22ca32"
      },
      "execution_count": null,
      "outputs": [
        {
          "output_type": "execute_result",
          "data": {
            "text/plain": [
              "{'brand': 'Infinix', 'RAM': '4gb'}"
            ]
          },
          "metadata": {},
          "execution_count": 100
        }
      ]
    },
    {
      "cell_type": "code",
      "source": [
        "# Create a dictionary of the names of your father, mother, brother and sister"
      ],
      "metadata": {
        "id": "aC-xCFhp_cds"
      },
      "execution_count": null,
      "outputs": []
    },
    {
      "cell_type": "code",
      "source": [
        "# Create a dictionary of your school names; (primary, secondary and tertiary)"
      ],
      "metadata": {
        "id": "r-1m1s-w_whp"
      },
      "execution_count": null,
      "outputs": []
    },
    {
      "cell_type": "code",
      "source": [
        "# You can store a dictionary within a dictionary\n",
        "\n",
        "# The dictionary contains colours of the shoes, type of dresses and\n",
        "# jacket types in a clothes box\n",
        "clothes = {\n",
        "    'shoes':{\n",
        "        'vans':'blue',\n",
        "        'nike jordans': 'red',\n",
        "        'adidas originals': 'black'\n",
        "        },\n",
        "    'dress':{\n",
        "            'uniform':'stripes',\n",
        "            'church':'flowery',\n",
        "            'business': 'polka'\n",
        "        },\n",
        "    'jackets':{\n",
        "        'khaki':'long',\n",
        "        'jean':'torn',\n",
        "        'cotton':'sleeveless'\n",
        "    }\n",
        "\n",
        "\n",
        "\n",
        "}\n",
        "\n",
        "clothes"
      ],
      "metadata": {
        "id": "gt1GY_it_-aw",
        "colab": {
          "base_uri": "https://localhost:8080/"
        },
        "outputId": "dd7fc20a-df87-4ae1-b978-4da930a9c9a0"
      },
      "execution_count": null,
      "outputs": [
        {
          "output_type": "execute_result",
          "data": {
            "text/plain": [
              "{'shoes': {'vans': 'blue', 'nike jordans': 'red', 'adidas originals': 'black'},\n",
              " 'dress': {'uniform': 'stripes', 'church': 'flowery', 'business': 'polka'},\n",
              " 'jackets': {'khaki': 'long', 'jean': 'torn', 'cotton': 'sleeveless'}}"
            ]
          },
          "metadata": {},
          "execution_count": 158
        }
      ]
    },
    {
      "cell_type": "markdown",
      "source": [
        "Adding elements to a dictionary"
      ],
      "metadata": {
        "id": "NNFrG4M1BtvP"
      }
    },
    {
      "cell_type": "code",
      "source": [
        "# Lets add engine type to our car dictionary\n",
        "\n",
        "gari['engine']= 'V6'\n",
        "gari"
      ],
      "metadata": {
        "id": "hNO3kXhzBteI",
        "colab": {
          "base_uri": "https://localhost:8080/"
        },
        "outputId": "b34207b3-ed95-4188-c673-988cfcf34cde"
      },
      "execution_count": null,
      "outputs": [
        {
          "output_type": "execute_result",
          "data": {
            "text/plain": [
              "{'brand': 'Toyota', 'colour': 'white', 'year': '1998', 'engine': 'V6'}"
            ]
          },
          "metadata": {},
          "execution_count": 104
        }
      ]
    },
    {
      "cell_type": "code",
      "source": [
        "# Lets add the phone colour to our phone dictionary\n",
        "phone['colour'] = 'Red'\n",
        "print(phone)"
      ],
      "metadata": {
        "id": "LgWNaJd3CiBu",
        "colab": {
          "base_uri": "https://localhost:8080/"
        },
        "outputId": "3eec97bd-ef57-41c9-c179-fc385b05a429"
      },
      "execution_count": null,
      "outputs": [
        {
          "output_type": "stream",
          "name": "stdout",
          "text": [
            "{'brand': 'Infinix', 'RAM': '4gb', 'colour': 'Red'}\n"
          ]
        }
      ]
    },
    {
      "cell_type": "code",
      "source": [
        "# Lets add our nephews name in the family dictionary"
      ],
      "metadata": {
        "id": "8mkvSa5jCIFj"
      },
      "execution_count": null,
      "outputs": []
    },
    {
      "cell_type": "markdown",
      "source": [
        "Access items from a dictionary"
      ],
      "metadata": {
        "id": "4VzwX2fZCHix"
      }
    },
    {
      "cell_type": "code",
      "source": [
        "# Access items from phone dictionary\n",
        "phone_colour = phone['colour']\n",
        "\n",
        "print(phone_colour)"
      ],
      "metadata": {
        "id": "fCccrb8iD57q",
        "colab": {
          "base_uri": "https://localhost:8080/"
        },
        "outputId": "602babe7-a2d8-40a7-a53b-454a7c26703b"
      },
      "execution_count": null,
      "outputs": [
        {
          "output_type": "stream",
          "name": "stdout",
          "text": [
            "Red\n"
          ]
        }
      ]
    },
    {
      "cell_type": "code",
      "source": [
        "# Get the engine type of a our car dictionary\n",
        "\n",
        "gari_e = gari.get('engine')\n",
        "gari_e"
      ],
      "metadata": {
        "id": "Y4z1mU9_Epy_",
        "colab": {
          "base_uri": "https://localhost:8080/",
          "height": 35
        },
        "outputId": "0f870ec7-7d3e-47ca-be06-5b1b785aa67f"
      },
      "execution_count": null,
      "outputs": [
        {
          "output_type": "execute_result",
          "data": {
            "text/plain": [
              "'V6'"
            ],
            "application/vnd.google.colaboratory.intrinsic+json": {
              "type": "string"
            }
          },
          "metadata": {},
          "execution_count": 108
        }
      ]
    },
    {
      "cell_type": "code",
      "source": [
        "# Try to retrieve the shoes dictionary in the clothes dictionary\n",
        "shoe = clothes.get('shoes')\n",
        "print(shoe)"
      ],
      "metadata": {
        "id": "o6hs40TNE7R6",
        "colab": {
          "base_uri": "https://localhost:8080/"
        },
        "outputId": "c980de6f-36bf-4aa5-9064-d79c2fc6a3a5"
      },
      "execution_count": null,
      "outputs": [
        {
          "output_type": "stream",
          "name": "stdout",
          "text": [
            "{'vans': 'blue', 'nike': 'red', 'adidas originals': 'black'}\n"
          ]
        }
      ]
    },
    {
      "cell_type": "code",
      "source": [
        "x = 13\n",
        "print(type(x))"
      ],
      "metadata": {
        "colab": {
          "base_uri": "https://localhost:8080/"
        },
        "id": "RJmluUG-tRCl",
        "outputId": "e845eb63-7d39-40d9-fe31-024f5b058546"
      },
      "execution_count": null,
      "outputs": [
        {
          "output_type": "stream",
          "name": "stdout",
          "text": [
            "<class 'int'>\n"
          ]
        }
      ]
    },
    {
      "cell_type": "code",
      "source": [],
      "metadata": {
        "id": "8NZYQ_hatQlz"
      },
      "execution_count": null,
      "outputs": []
    },
    {
      "cell_type": "markdown",
      "source": [
        "Remove elements from a dictionary\n",
        "We can remove specific items from dictionary using **pop()** and clear contents of the dictionary using **clear()**"
      ],
      "metadata": {
        "id": "TQnSHonhFzUR"
      }
    },
    {
      "cell_type": "code",
      "source": [
        "# Remove age from bio dictionary\n",
        "bio_2 = bio.pop('age')\n",
        "print(bio)\n",
        "print(bio_2)"
      ],
      "metadata": {
        "id": "od-4dBr-F2zx",
        "colab": {
          "base_uri": "https://localhost:8080/"
        },
        "outputId": "aa3f054e-f675-4d0b-9018-10a79d186af8"
      },
      "execution_count": null,
      "outputs": [
        {
          "output_type": "stream",
          "name": "stdout",
          "text": [
            "{'Name': 'Mwanga', 'gender': 'female', 'height': '120 cm', 'weight': 52}\n",
            "25\n"
          ]
        }
      ]
    },
    {
      "cell_type": "code",
      "source": [
        "# lets clear contents in shoe dictionary\n",
        "shoe.clear()\n",
        "shoe"
      ],
      "metadata": {
        "id": "rf17CD21HbjC",
        "colab": {
          "base_uri": "https://localhost:8080/"
        },
        "outputId": "47ea925c-c4e6-49c4-d6e2-826f404c7c9f"
      },
      "execution_count": null,
      "outputs": [
        {
          "output_type": "execute_result",
          "data": {
            "text/plain": [
              "{}"
            ]
          },
          "metadata": {},
          "execution_count": 112
        }
      ]
    },
    {
      "cell_type": "code",
      "source": [],
      "metadata": {
        "id": "N69d7i3EMZkn"
      },
      "execution_count": null,
      "outputs": []
    }
  ]
}